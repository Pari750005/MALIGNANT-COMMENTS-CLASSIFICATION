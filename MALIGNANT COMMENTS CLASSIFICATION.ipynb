{
 "cells": [
  {
   "cell_type": "code",
   "execution_count": 1,
   "id": "b5c50199",
   "metadata": {},
   "outputs": [],
   "source": [
    "import pandas as pd\n",
    "import numpy as np\n",
    "import seaborn as sns\n",
    "import matplotlib.pyplot as plt\n",
    "from sklearn.preprocessing import LabelEncoder\n",
    "from scipy.stats import zscore\n",
    "from sklearn.model_selection import train_test_split\n",
    "from sklearn.model_selection import GridSearchCV\n",
    "from sklearn.model_selection import cross_val_score\n",
    "import warnings\n",
    "warnings.filterwarnings('ignore')\n",
    "from sklearn.tree import DecisionTreeClassifier\n",
    "from sklearn.svm import SVC\n",
    "from sklearn.ensemble import RandomForestClassifier\n",
    "from sklearn.neighbors import KNeighborsClassifier\n",
    "from sklearn.linear_model import LogisticRegression\n",
    "from sklearn.metrics import accuracy_score,confusion_matrix, classification_report"
   ]
  },
  {
   "cell_type": "markdown",
   "id": "18075800",
   "metadata": {},
   "source": [
    "Loading training dataset"
   ]
  },
  {
   "cell_type": "code",
   "execution_count": 2,
   "id": "ed501847",
   "metadata": {},
   "outputs": [
    {
     "data": {
      "text/html": [
       "<div>\n",
       "<style scoped>\n",
       "    .dataframe tbody tr th:only-of-type {\n",
       "        vertical-align: middle;\n",
       "    }\n",
       "\n",
       "    .dataframe tbody tr th {\n",
       "        vertical-align: top;\n",
       "    }\n",
       "\n",
       "    .dataframe thead th {\n",
       "        text-align: right;\n",
       "    }\n",
       "</style>\n",
       "<table border=\"1\" class=\"dataframe\">\n",
       "  <thead>\n",
       "    <tr style=\"text-align: right;\">\n",
       "      <th></th>\n",
       "      <th>id</th>\n",
       "      <th>comment_text</th>\n",
       "      <th>malignant</th>\n",
       "      <th>highly_malignant</th>\n",
       "      <th>rude</th>\n",
       "      <th>threat</th>\n",
       "      <th>abuse</th>\n",
       "      <th>loathe</th>\n",
       "    </tr>\n",
       "  </thead>\n",
       "  <tbody>\n",
       "    <tr>\n",
       "      <th>0</th>\n",
       "      <td>0000997932d777bf</td>\n",
       "      <td>Explanation\\nWhy the edits made under my usern...</td>\n",
       "      <td>0</td>\n",
       "      <td>0</td>\n",
       "      <td>0</td>\n",
       "      <td>0</td>\n",
       "      <td>0</td>\n",
       "      <td>0</td>\n",
       "    </tr>\n",
       "    <tr>\n",
       "      <th>1</th>\n",
       "      <td>000103f0d9cfb60f</td>\n",
       "      <td>D'aww! He matches this background colour I'm s...</td>\n",
       "      <td>0</td>\n",
       "      <td>0</td>\n",
       "      <td>0</td>\n",
       "      <td>0</td>\n",
       "      <td>0</td>\n",
       "      <td>0</td>\n",
       "    </tr>\n",
       "    <tr>\n",
       "      <th>2</th>\n",
       "      <td>000113f07ec002fd</td>\n",
       "      <td>Hey man, I'm really not trying to edit war. It...</td>\n",
       "      <td>0</td>\n",
       "      <td>0</td>\n",
       "      <td>0</td>\n",
       "      <td>0</td>\n",
       "      <td>0</td>\n",
       "      <td>0</td>\n",
       "    </tr>\n",
       "    <tr>\n",
       "      <th>3</th>\n",
       "      <td>0001b41b1c6bb37e</td>\n",
       "      <td>\"\\nMore\\nI can't make any real suggestions on ...</td>\n",
       "      <td>0</td>\n",
       "      <td>0</td>\n",
       "      <td>0</td>\n",
       "      <td>0</td>\n",
       "      <td>0</td>\n",
       "      <td>0</td>\n",
       "    </tr>\n",
       "    <tr>\n",
       "      <th>4</th>\n",
       "      <td>0001d958c54c6e35</td>\n",
       "      <td>You, sir, are my hero. Any chance you remember...</td>\n",
       "      <td>0</td>\n",
       "      <td>0</td>\n",
       "      <td>0</td>\n",
       "      <td>0</td>\n",
       "      <td>0</td>\n",
       "      <td>0</td>\n",
       "    </tr>\n",
       "    <tr>\n",
       "      <th>...</th>\n",
       "      <td>...</td>\n",
       "      <td>...</td>\n",
       "      <td>...</td>\n",
       "      <td>...</td>\n",
       "      <td>...</td>\n",
       "      <td>...</td>\n",
       "      <td>...</td>\n",
       "      <td>...</td>\n",
       "    </tr>\n",
       "    <tr>\n",
       "      <th>159566</th>\n",
       "      <td>ffe987279560d7ff</td>\n",
       "      <td>\":::::And for the second time of asking, when ...</td>\n",
       "      <td>0</td>\n",
       "      <td>0</td>\n",
       "      <td>0</td>\n",
       "      <td>0</td>\n",
       "      <td>0</td>\n",
       "      <td>0</td>\n",
       "    </tr>\n",
       "    <tr>\n",
       "      <th>159567</th>\n",
       "      <td>ffea4adeee384e90</td>\n",
       "      <td>You should be ashamed of yourself \\n\\nThat is ...</td>\n",
       "      <td>0</td>\n",
       "      <td>0</td>\n",
       "      <td>0</td>\n",
       "      <td>0</td>\n",
       "      <td>0</td>\n",
       "      <td>0</td>\n",
       "    </tr>\n",
       "    <tr>\n",
       "      <th>159568</th>\n",
       "      <td>ffee36eab5c267c9</td>\n",
       "      <td>Spitzer \\n\\nUmm, theres no actual article for ...</td>\n",
       "      <td>0</td>\n",
       "      <td>0</td>\n",
       "      <td>0</td>\n",
       "      <td>0</td>\n",
       "      <td>0</td>\n",
       "      <td>0</td>\n",
       "    </tr>\n",
       "    <tr>\n",
       "      <th>159569</th>\n",
       "      <td>fff125370e4aaaf3</td>\n",
       "      <td>And it looks like it was actually you who put ...</td>\n",
       "      <td>0</td>\n",
       "      <td>0</td>\n",
       "      <td>0</td>\n",
       "      <td>0</td>\n",
       "      <td>0</td>\n",
       "      <td>0</td>\n",
       "    </tr>\n",
       "    <tr>\n",
       "      <th>159570</th>\n",
       "      <td>fff46fc426af1f9a</td>\n",
       "      <td>\"\\nAnd ... I really don't think you understand...</td>\n",
       "      <td>0</td>\n",
       "      <td>0</td>\n",
       "      <td>0</td>\n",
       "      <td>0</td>\n",
       "      <td>0</td>\n",
       "      <td>0</td>\n",
       "    </tr>\n",
       "  </tbody>\n",
       "</table>\n",
       "<p>159571 rows × 8 columns</p>\n",
       "</div>"
      ],
      "text/plain": [
       "                      id                                       comment_text  \\\n",
       "0       0000997932d777bf  Explanation\\nWhy the edits made under my usern...   \n",
       "1       000103f0d9cfb60f  D'aww! He matches this background colour I'm s...   \n",
       "2       000113f07ec002fd  Hey man, I'm really not trying to edit war. It...   \n",
       "3       0001b41b1c6bb37e  \"\\nMore\\nI can't make any real suggestions on ...   \n",
       "4       0001d958c54c6e35  You, sir, are my hero. Any chance you remember...   \n",
       "...                  ...                                                ...   \n",
       "159566  ffe987279560d7ff  \":::::And for the second time of asking, when ...   \n",
       "159567  ffea4adeee384e90  You should be ashamed of yourself \\n\\nThat is ...   \n",
       "159568  ffee36eab5c267c9  Spitzer \\n\\nUmm, theres no actual article for ...   \n",
       "159569  fff125370e4aaaf3  And it looks like it was actually you who put ...   \n",
       "159570  fff46fc426af1f9a  \"\\nAnd ... I really don't think you understand...   \n",
       "\n",
       "        malignant  highly_malignant  rude  threat  abuse  loathe  \n",
       "0               0                 0     0       0      0       0  \n",
       "1               0                 0     0       0      0       0  \n",
       "2               0                 0     0       0      0       0  \n",
       "3               0                 0     0       0      0       0  \n",
       "4               0                 0     0       0      0       0  \n",
       "...           ...               ...   ...     ...    ...     ...  \n",
       "159566          0                 0     0       0      0       0  \n",
       "159567          0                 0     0       0      0       0  \n",
       "159568          0                 0     0       0      0       0  \n",
       "159569          0                 0     0       0      0       0  \n",
       "159570          0                 0     0       0      0       0  \n",
       "\n",
       "[159571 rows x 8 columns]"
      ]
     },
     "execution_count": 2,
     "metadata": {},
     "output_type": "execute_result"
    }
   ],
   "source": [
    "df=pd.read_csv(r'train.csv')\n",
    "df"
   ]
  },
  {
   "cell_type": "code",
   "execution_count": 3,
   "id": "7aab7bf7",
   "metadata": {},
   "outputs": [
    {
     "name": "stdout",
     "output_type": "stream",
     "text": [
      "No. of Rows : 159571\n",
      "No. of Columns : 8\n"
     ]
    },
    {
     "data": {
      "text/html": [
       "<div>\n",
       "<style scoped>\n",
       "    .dataframe tbody tr th:only-of-type {\n",
       "        vertical-align: middle;\n",
       "    }\n",
       "\n",
       "    .dataframe tbody tr th {\n",
       "        vertical-align: top;\n",
       "    }\n",
       "\n",
       "    .dataframe thead th {\n",
       "        text-align: right;\n",
       "    }\n",
       "</style>\n",
       "<table border=\"1\" class=\"dataframe\">\n",
       "  <thead>\n",
       "    <tr style=\"text-align: right;\">\n",
       "      <th></th>\n",
       "      <th>id</th>\n",
       "      <th>comment_text</th>\n",
       "      <th>malignant</th>\n",
       "      <th>highly_malignant</th>\n",
       "      <th>rude</th>\n",
       "      <th>threat</th>\n",
       "      <th>abuse</th>\n",
       "      <th>loathe</th>\n",
       "    </tr>\n",
       "  </thead>\n",
       "  <tbody>\n",
       "    <tr>\n",
       "      <th>0</th>\n",
       "      <td>0000997932d777bf</td>\n",
       "      <td>Explanation\\nWhy the edits made under my usern...</td>\n",
       "      <td>0</td>\n",
       "      <td>0</td>\n",
       "      <td>0</td>\n",
       "      <td>0</td>\n",
       "      <td>0</td>\n",
       "      <td>0</td>\n",
       "    </tr>\n",
       "    <tr>\n",
       "      <th>1</th>\n",
       "      <td>000103f0d9cfb60f</td>\n",
       "      <td>D'aww! He matches this background colour I'm s...</td>\n",
       "      <td>0</td>\n",
       "      <td>0</td>\n",
       "      <td>0</td>\n",
       "      <td>0</td>\n",
       "      <td>0</td>\n",
       "      <td>0</td>\n",
       "    </tr>\n",
       "    <tr>\n",
       "      <th>2</th>\n",
       "      <td>000113f07ec002fd</td>\n",
       "      <td>Hey man, I'm really not trying to edit war. It...</td>\n",
       "      <td>0</td>\n",
       "      <td>0</td>\n",
       "      <td>0</td>\n",
       "      <td>0</td>\n",
       "      <td>0</td>\n",
       "      <td>0</td>\n",
       "    </tr>\n",
       "    <tr>\n",
       "      <th>3</th>\n",
       "      <td>0001b41b1c6bb37e</td>\n",
       "      <td>\"\\nMore\\nI can't make any real suggestions on ...</td>\n",
       "      <td>0</td>\n",
       "      <td>0</td>\n",
       "      <td>0</td>\n",
       "      <td>0</td>\n",
       "      <td>0</td>\n",
       "      <td>0</td>\n",
       "    </tr>\n",
       "    <tr>\n",
       "      <th>4</th>\n",
       "      <td>0001d958c54c6e35</td>\n",
       "      <td>You, sir, are my hero. Any chance you remember...</td>\n",
       "      <td>0</td>\n",
       "      <td>0</td>\n",
       "      <td>0</td>\n",
       "      <td>0</td>\n",
       "      <td>0</td>\n",
       "      <td>0</td>\n",
       "    </tr>\n",
       "  </tbody>\n",
       "</table>\n",
       "</div>"
      ],
      "text/plain": [
       "                 id                                       comment_text  \\\n",
       "0  0000997932d777bf  Explanation\\nWhy the edits made under my usern...   \n",
       "1  000103f0d9cfb60f  D'aww! He matches this background colour I'm s...   \n",
       "2  000113f07ec002fd  Hey man, I'm really not trying to edit war. It...   \n",
       "3  0001b41b1c6bb37e  \"\\nMore\\nI can't make any real suggestions on ...   \n",
       "4  0001d958c54c6e35  You, sir, are my hero. Any chance you remember...   \n",
       "\n",
       "   malignant  highly_malignant  rude  threat  abuse  loathe  \n",
       "0          0                 0     0       0      0       0  \n",
       "1          0                 0     0       0      0       0  \n",
       "2          0                 0     0       0      0       0  \n",
       "3          0                 0     0       0      0       0  \n",
       "4          0                 0     0       0      0       0  "
      ]
     },
     "execution_count": 3,
     "metadata": {},
     "output_type": "execute_result"
    }
   ],
   "source": [
    "print('No. of Rows :',df.shape[0])\n",
    "print('No. of Columns :',df.shape[1])\n",
    "df.head()"
   ]
  },
  {
   "cell_type": "code",
   "execution_count": 4,
   "id": "ea3c8940",
   "metadata": {},
   "outputs": [
    {
     "name": "stdout",
     "output_type": "stream",
     "text": [
      "<class 'pandas.core.frame.DataFrame'>\n",
      "RangeIndex: 159571 entries, 0 to 159570\n",
      "Data columns (total 8 columns):\n",
      " #   Column            Non-Null Count   Dtype \n",
      "---  ------            --------------   ----- \n",
      " 0   id                159571 non-null  object\n",
      " 1   comment_text      159571 non-null  object\n",
      " 2   malignant         159571 non-null  int64 \n",
      " 3   highly_malignant  159571 non-null  int64 \n",
      " 4   rude              159571 non-null  int64 \n",
      " 5   threat            159571 non-null  int64 \n",
      " 6   abuse             159571 non-null  int64 \n",
      " 7   loathe            159571 non-null  int64 \n",
      "dtypes: int64(6), object(2)\n",
      "memory usage: 9.7+ MB\n"
     ]
    }
   ],
   "source": [
    "df.info()"
   ]
  },
  {
   "cell_type": "markdown",
   "id": "b72f9390",
   "metadata": {},
   "source": [
    "ID, comment_text has object data type and other columns have int64 data type."
   ]
  },
  {
   "cell_type": "markdown",
   "id": "f7d737e4",
   "metadata": {},
   "source": [
    "Loading test data"
   ]
  },
  {
   "cell_type": "code",
   "execution_count": 5,
   "id": "74fc16b0",
   "metadata": {},
   "outputs": [
    {
     "data": {
      "text/html": [
       "<div>\n",
       "<style scoped>\n",
       "    .dataframe tbody tr th:only-of-type {\n",
       "        vertical-align: middle;\n",
       "    }\n",
       "\n",
       "    .dataframe tbody tr th {\n",
       "        vertical-align: top;\n",
       "    }\n",
       "\n",
       "    .dataframe thead th {\n",
       "        text-align: right;\n",
       "    }\n",
       "</style>\n",
       "<table border=\"1\" class=\"dataframe\">\n",
       "  <thead>\n",
       "    <tr style=\"text-align: right;\">\n",
       "      <th></th>\n",
       "      <th>id</th>\n",
       "      <th>comment_text</th>\n",
       "    </tr>\n",
       "  </thead>\n",
       "  <tbody>\n",
       "    <tr>\n",
       "      <th>0</th>\n",
       "      <td>00001cee341fdb12</td>\n",
       "      <td>Yo bitch Ja Rule is more succesful then you'll...</td>\n",
       "    </tr>\n",
       "    <tr>\n",
       "      <th>1</th>\n",
       "      <td>0000247867823ef7</td>\n",
       "      <td>== From RfC == \\n\\n The title is fine as it is...</td>\n",
       "    </tr>\n",
       "    <tr>\n",
       "      <th>2</th>\n",
       "      <td>00013b17ad220c46</td>\n",
       "      <td>\" \\n\\n == Sources == \\n\\n * Zawe Ashton on Lap...</td>\n",
       "    </tr>\n",
       "    <tr>\n",
       "      <th>3</th>\n",
       "      <td>00017563c3f7919a</td>\n",
       "      <td>:If you have a look back at the source, the in...</td>\n",
       "    </tr>\n",
       "    <tr>\n",
       "      <th>4</th>\n",
       "      <td>00017695ad8997eb</td>\n",
       "      <td>I don't anonymously edit articles at all.</td>\n",
       "    </tr>\n",
       "    <tr>\n",
       "      <th>...</th>\n",
       "      <td>...</td>\n",
       "      <td>...</td>\n",
       "    </tr>\n",
       "    <tr>\n",
       "      <th>153159</th>\n",
       "      <td>fffcd0960ee309b5</td>\n",
       "      <td>. \\n i totally agree, this stuff is nothing bu...</td>\n",
       "    </tr>\n",
       "    <tr>\n",
       "      <th>153160</th>\n",
       "      <td>fffd7a9a6eb32c16</td>\n",
       "      <td>== Throw from out field to home plate. == \\n\\n...</td>\n",
       "    </tr>\n",
       "    <tr>\n",
       "      <th>153161</th>\n",
       "      <td>fffda9e8d6fafa9e</td>\n",
       "      <td>\" \\n\\n == Okinotorishima categories == \\n\\n I ...</td>\n",
       "    </tr>\n",
       "    <tr>\n",
       "      <th>153162</th>\n",
       "      <td>fffe8f1340a79fc2</td>\n",
       "      <td>\" \\n\\n == \"\"One of the founding nations of the...</td>\n",
       "    </tr>\n",
       "    <tr>\n",
       "      <th>153163</th>\n",
       "      <td>ffffce3fb183ee80</td>\n",
       "      <td>\" \\n :::Stop already. Your bullshit is not wel...</td>\n",
       "    </tr>\n",
       "  </tbody>\n",
       "</table>\n",
       "<p>153164 rows × 2 columns</p>\n",
       "</div>"
      ],
      "text/plain": [
       "                      id                                       comment_text\n",
       "0       00001cee341fdb12  Yo bitch Ja Rule is more succesful then you'll...\n",
       "1       0000247867823ef7  == From RfC == \\n\\n The title is fine as it is...\n",
       "2       00013b17ad220c46  \" \\n\\n == Sources == \\n\\n * Zawe Ashton on Lap...\n",
       "3       00017563c3f7919a  :If you have a look back at the source, the in...\n",
       "4       00017695ad8997eb          I don't anonymously edit articles at all.\n",
       "...                  ...                                                ...\n",
       "153159  fffcd0960ee309b5  . \\n i totally agree, this stuff is nothing bu...\n",
       "153160  fffd7a9a6eb32c16  == Throw from out field to home plate. == \\n\\n...\n",
       "153161  fffda9e8d6fafa9e  \" \\n\\n == Okinotorishima categories == \\n\\n I ...\n",
       "153162  fffe8f1340a79fc2  \" \\n\\n == \"\"One of the founding nations of the...\n",
       "153163  ffffce3fb183ee80  \" \\n :::Stop already. Your bullshit is not wel...\n",
       "\n",
       "[153164 rows x 2 columns]"
      ]
     },
     "execution_count": 5,
     "metadata": {},
     "output_type": "execute_result"
    }
   ],
   "source": [
    "dft=pd.read_csv(r'testdata.csv')\n",
    "dft"
   ]
  },
  {
   "cell_type": "code",
   "execution_count": 6,
   "id": "46b0fc1e",
   "metadata": {},
   "outputs": [
    {
     "name": "stdout",
     "output_type": "stream",
     "text": [
      "No. of Rows : 153164\n",
      "No. of Columns : 2\n"
     ]
    },
    {
     "data": {
      "text/html": [
       "<div>\n",
       "<style scoped>\n",
       "    .dataframe tbody tr th:only-of-type {\n",
       "        vertical-align: middle;\n",
       "    }\n",
       "\n",
       "    .dataframe tbody tr th {\n",
       "        vertical-align: top;\n",
       "    }\n",
       "\n",
       "    .dataframe thead th {\n",
       "        text-align: right;\n",
       "    }\n",
       "</style>\n",
       "<table border=\"1\" class=\"dataframe\">\n",
       "  <thead>\n",
       "    <tr style=\"text-align: right;\">\n",
       "      <th></th>\n",
       "      <th>id</th>\n",
       "      <th>comment_text</th>\n",
       "    </tr>\n",
       "  </thead>\n",
       "  <tbody>\n",
       "    <tr>\n",
       "      <th>0</th>\n",
       "      <td>00001cee341fdb12</td>\n",
       "      <td>Yo bitch Ja Rule is more succesful then you'll...</td>\n",
       "    </tr>\n",
       "    <tr>\n",
       "      <th>1</th>\n",
       "      <td>0000247867823ef7</td>\n",
       "      <td>== From RfC == \\n\\n The title is fine as it is...</td>\n",
       "    </tr>\n",
       "    <tr>\n",
       "      <th>2</th>\n",
       "      <td>00013b17ad220c46</td>\n",
       "      <td>\" \\n\\n == Sources == \\n\\n * Zawe Ashton on Lap...</td>\n",
       "    </tr>\n",
       "    <tr>\n",
       "      <th>3</th>\n",
       "      <td>00017563c3f7919a</td>\n",
       "      <td>:If you have a look back at the source, the in...</td>\n",
       "    </tr>\n",
       "    <tr>\n",
       "      <th>4</th>\n",
       "      <td>00017695ad8997eb</td>\n",
       "      <td>I don't anonymously edit articles at all.</td>\n",
       "    </tr>\n",
       "  </tbody>\n",
       "</table>\n",
       "</div>"
      ],
      "text/plain": [
       "                 id                                       comment_text\n",
       "0  00001cee341fdb12  Yo bitch Ja Rule is more succesful then you'll...\n",
       "1  0000247867823ef7  == From RfC == \\n\\n The title is fine as it is...\n",
       "2  00013b17ad220c46  \" \\n\\n == Sources == \\n\\n * Zawe Ashton on Lap...\n",
       "3  00017563c3f7919a  :If you have a look back at the source, the in...\n",
       "4  00017695ad8997eb          I don't anonymously edit articles at all."
      ]
     },
     "execution_count": 6,
     "metadata": {},
     "output_type": "execute_result"
    }
   ],
   "source": [
    "print('No. of Rows :',dft.shape[0])\n",
    "print('No. of Columns :',dft.shape[1])\n",
    "dft.head()"
   ]
  },
  {
   "cell_type": "markdown",
   "id": "242007a2",
   "metadata": {},
   "source": [
    "Checking Null Values"
   ]
  },
  {
   "cell_type": "code",
   "execution_count": 7,
   "id": "d7dcdc03",
   "metadata": {},
   "outputs": [
    {
     "data": {
      "text/plain": [
       "id                  0\n",
       "comment_text        0\n",
       "malignant           0\n",
       "highly_malignant    0\n",
       "rude                0\n",
       "threat              0\n",
       "abuse               0\n",
       "loathe              0\n",
       "dtype: int64"
      ]
     },
     "execution_count": 7,
     "metadata": {},
     "output_type": "execute_result"
    }
   ],
   "source": [
    "df.isnull().sum()"
   ]
  },
  {
   "cell_type": "code",
   "execution_count": 8,
   "id": "2f1fa42c",
   "metadata": {},
   "outputs": [
    {
     "data": {
      "text/plain": [
       "id              0\n",
       "comment_text    0\n",
       "dtype: int64"
      ]
     },
     "execution_count": 8,
     "metadata": {},
     "output_type": "execute_result"
    }
   ],
   "source": [
    "dft.isnull().sum()"
   ]
  },
  {
   "cell_type": "markdown",
   "id": "85df67d0",
   "metadata": {},
   "source": [
    "Train and Test datasets doesnt have any missing values."
   ]
  },
  {
   "cell_type": "code",
   "execution_count": 9,
   "id": "13004cac",
   "metadata": {},
   "outputs": [
    {
     "data": {
      "text/plain": [
       "\"Explanation\\nWhy the edits made under my username Hardcore Metallica Fan were reverted? They weren't vandalisms, just closure on some GAs after I voted at New York Dolls FAC. And please don't remove the template from the talk page since I'm retired now.89.205.38.27\""
      ]
     },
     "execution_count": 9,
     "metadata": {},
     "output_type": "execute_result"
    }
   ],
   "source": [
    "df['comment_text'][0]"
   ]
  },
  {
   "cell_type": "markdown",
   "id": "62be6827",
   "metadata": {},
   "source": [
    "As per observation, text processing is required for this column."
   ]
  },
  {
   "cell_type": "code",
   "execution_count": 10,
   "id": "077b13f1",
   "metadata": {},
   "outputs": [],
   "source": [
    "list1 = ['malignant','highly_malignant','rude','threat','abuse','loathe']"
   ]
  },
  {
   "cell_type": "code",
   "execution_count": 11,
   "id": "3d3db42a",
   "metadata": {},
   "outputs": [
    {
     "name": "stdout",
     "output_type": "stream",
     "text": [
      "Value counts for:  malignant\n",
      "0    144277\n",
      "1     15294\n",
      "Name: malignant, dtype: int64\n",
      "===========================\n",
      "Value counts for:  highly_malignant\n",
      "0    157976\n",
      "1      1595\n",
      "Name: highly_malignant, dtype: int64\n",
      "===========================\n",
      "Value counts for:  rude\n",
      "0    151122\n",
      "1      8449\n",
      "Name: rude, dtype: int64\n",
      "===========================\n",
      "Value counts for:  threat\n",
      "0    159093\n",
      "1       478\n",
      "Name: threat, dtype: int64\n",
      "===========================\n",
      "Value counts for:  abuse\n",
      "0    151694\n",
      "1      7877\n",
      "Name: abuse, dtype: int64\n",
      "===========================\n",
      "Value counts for:  loathe\n",
      "0    158166\n",
      "1      1405\n",
      "Name: loathe, dtype: int64\n",
      "===========================\n"
     ]
    }
   ],
   "source": [
    "for i in list1:\n",
    "    print('Value counts for: ',i)\n",
    "    print(df[i].value_counts())\n",
    "    print('===========================')"
   ]
  },
  {
   "cell_type": "markdown",
   "id": "60da2cc9",
   "metadata": {},
   "source": [
    "Dataset is imbalanced and require technique to balance the dataset."
   ]
  },
  {
   "cell_type": "markdown",
   "id": "1f39a155",
   "metadata": {},
   "source": [
    "EDA"
   ]
  },
  {
   "cell_type": "code",
   "execution_count": 12,
   "id": "1ca072ca",
   "metadata": {},
   "outputs": [
    {
     "data": {
      "text/plain": [
       "<AxesSubplot:xlabel='malignant', ylabel='count'>"
      ]
     },
     "execution_count": 12,
     "metadata": {},
     "output_type": "execute_result"
    },
    {
     "data": {
      "image/png": "[encoded data removed]",
      "text/plain": [
       "<Figure size 432x288 with 1 Axes>"
      ]
     },
     "metadata": {
      "needs_background": "light"
     },
     "output_type": "display_data"
    }
   ],
   "source": [
    "sns.countplot(df['malignant'])"
   ]
  },
  {
   "cell_type": "code",
   "execution_count": 13,
   "id": "f030500b",
   "metadata": {},
   "outputs": [
    {
     "data": {
      "text/plain": [
       "<AxesSubplot:xlabel='highly_malignant', ylabel='count'>"
      ]
     },
     "execution_count": 13,
     "metadata": {},
     "output_type": "execute_result"
    },
    {
     "data": {
      "image/png": "[encoded data removed]",
      "text/plain": [
       "<Figure size 432x288 with 1 Axes>"
      ]
     },
     "metadata": {
      "needs_background": "light"
     },
     "output_type": "display_data"
    }
   ],
   "source": [
    "sns.countplot(df['highly_malignant'])"
   ]
  },
  {
   "cell_type": "code",
   "execution_count": 14,
   "id": "932ff565",
   "metadata": {},
   "outputs": [
    {
     "data": {
      "text/plain": [
       "<AxesSubplot:xlabel='rude', ylabel='count'>"
      ]
     },
     "execution_count": 14,
     "metadata": {},
     "output_type": "execute_result"
    },
    {
     "data": {
      "image/png": "[encoded data removed]",
      "text/plain": [
       "<Figure size 432x288 with 1 Axes>"
      ]
     },
     "metadata": {
      "needs_background": "light"
     },
     "output_type": "display_data"
    }
   ],
   "source": [
    "sns.countplot(df['rude'])"
   ]
  },
  {
   "cell_type": "code",
   "execution_count": 15,
   "id": "5d95cb12",
   "metadata": {},
   "outputs": [
    {
     "data": {
      "text/plain": [
       "<AxesSubplot:xlabel='threat', ylabel='count'>"
      ]
     },
     "execution_count": 15,
     "metadata": {},
     "output_type": "execute_result"
    },
    {
     "data": {
      "image/png": "[encoded data removed]",
      "text/plain": [
       "<Figure size 432x288 with 1 Axes>"
      ]
     },
     "metadata": {
      "needs_background": "light"
     },
     "output_type": "display_data"
    }
   ],
   "source": [
    "sns.countplot(df['threat'])"
   ]
  },
  {
   "cell_type": "code",
   "execution_count": 16,
   "id": "42de7879",
   "metadata": {},
   "outputs": [
    {
     "data": {
      "text/plain": [
       "<AxesSubplot:xlabel='abuse', ylabel='count'>"
      ]
     },
     "execution_count": 16,
     "metadata": {},
     "output_type": "execute_result"
    },
    {
     "data": {
      "image/png": "[encoded data removed]",
      "text/plain": [
       "<Figure size 432x288 with 1 Axes>"
      ]
     },
     "metadata": {
      "needs_background": "light"
     },
     "output_type": "display_data"
    }
   ],
   "source": [
    "sns.countplot(df['abuse'])"
   ]
  },
  {
   "cell_type": "code",
   "execution_count": 17,
   "id": "fb31c78b",
   "metadata": {},
   "outputs": [
    {
     "data": {
      "text/plain": [
       "<AxesSubplot:xlabel='loathe', ylabel='count'>"
      ]
     },
     "execution_count": 17,
     "metadata": {},
     "output_type": "execute_result"
    },
    {
     "data": {
      "image/png": "[encoded data removed]",
      "text/plain": [
       "<Figure size 432x288 with 1 Axes>"
      ]
     },
     "metadata": {
      "needs_background": "light"
     },
     "output_type": "display_data"
    }
   ],
   "source": [
    "sns.countplot(df['loathe'])"
   ]
  },
  {
   "cell_type": "markdown",
   "id": "43959d6d",
   "metadata": {},
   "source": [
    "As per observation, maximum negative comments belongs to malignant, rude and abuse columns however threat columns have minimum negative comments."
   ]
  },
  {
   "cell_type": "code",
   "execution_count": 18,
   "id": "7a2b8c9a",
   "metadata": {},
   "outputs": [],
   "source": [
    "df_new = df.iloc[:,2:].sum()"
   ]
  },
  {
   "cell_type": "code",
   "execution_count": 19,
   "id": "764e2c5f",
   "metadata": {},
   "outputs": [
    {
     "data": {
      "image/png": "[encoded data removed]",
      "text/plain": [
       "<Figure size 1008x648 with 1 Axes>"
      ]
     },
     "metadata": {
      "needs_background": "light"
     },
     "output_type": "display_data"
    }
   ],
   "source": [
    "plt.figure(figsize=(14,9))\n",
    "ax = sns.barplot(df_new.index, df_new.values)"
   ]
  },
  {
   "cell_type": "markdown",
   "id": "7f9cad7a",
   "metadata": {},
   "source": [
    "Observation:\n",
    "1) Out of total comments most of negative comments are belong to malignant and rude category.\n",
    "2) Threat category has very less comments."
   ]
  },
  {
   "cell_type": "code",
   "execution_count": 20,
   "id": "852482b5",
   "metadata": {},
   "outputs": [
    {
     "data": {
      "text/html": [
       "<div>\n",
       "<style scoped>\n",
       "    .dataframe tbody tr th:only-of-type {\n",
       "        vertical-align: middle;\n",
       "    }\n",
       "\n",
       "    .dataframe tbody tr th {\n",
       "        vertical-align: top;\n",
       "    }\n",
       "\n",
       "    .dataframe thead th {\n",
       "        text-align: right;\n",
       "    }\n",
       "</style>\n",
       "<table border=\"1\" class=\"dataframe\">\n",
       "  <thead>\n",
       "    <tr style=\"text-align: right;\">\n",
       "      <th></th>\n",
       "      <th>malignant</th>\n",
       "      <th>highly_malignant</th>\n",
       "      <th>rude</th>\n",
       "      <th>threat</th>\n",
       "      <th>abuse</th>\n",
       "      <th>loathe</th>\n",
       "    </tr>\n",
       "  </thead>\n",
       "  <tbody>\n",
       "    <tr>\n",
       "      <th>malignant</th>\n",
       "      <td>1.000000</td>\n",
       "      <td>0.308619</td>\n",
       "      <td>0.676515</td>\n",
       "      <td>0.157058</td>\n",
       "      <td>0.647518</td>\n",
       "      <td>0.266009</td>\n",
       "    </tr>\n",
       "    <tr>\n",
       "      <th>highly_malignant</th>\n",
       "      <td>0.308619</td>\n",
       "      <td>1.000000</td>\n",
       "      <td>0.403014</td>\n",
       "      <td>0.123601</td>\n",
       "      <td>0.375807</td>\n",
       "      <td>0.201600</td>\n",
       "    </tr>\n",
       "    <tr>\n",
       "      <th>rude</th>\n",
       "      <td>0.676515</td>\n",
       "      <td>0.403014</td>\n",
       "      <td>1.000000</td>\n",
       "      <td>0.141179</td>\n",
       "      <td>0.741272</td>\n",
       "      <td>0.286867</td>\n",
       "    </tr>\n",
       "    <tr>\n",
       "      <th>threat</th>\n",
       "      <td>0.157058</td>\n",
       "      <td>0.123601</td>\n",
       "      <td>0.141179</td>\n",
       "      <td>1.000000</td>\n",
       "      <td>0.150022</td>\n",
       "      <td>0.115128</td>\n",
       "    </tr>\n",
       "    <tr>\n",
       "      <th>abuse</th>\n",
       "      <td>0.647518</td>\n",
       "      <td>0.375807</td>\n",
       "      <td>0.741272</td>\n",
       "      <td>0.150022</td>\n",
       "      <td>1.000000</td>\n",
       "      <td>0.337736</td>\n",
       "    </tr>\n",
       "    <tr>\n",
       "      <th>loathe</th>\n",
       "      <td>0.266009</td>\n",
       "      <td>0.201600</td>\n",
       "      <td>0.286867</td>\n",
       "      <td>0.115128</td>\n",
       "      <td>0.337736</td>\n",
       "      <td>1.000000</td>\n",
       "    </tr>\n",
       "  </tbody>\n",
       "</table>\n",
       "</div>"
      ],
      "text/plain": [
       "                  malignant  highly_malignant      rude    threat     abuse  \\\n",
       "malignant          1.000000          0.308619  0.676515  0.157058  0.647518   \n",
       "highly_malignant   0.308619          1.000000  0.403014  0.123601  0.375807   \n",
       "rude               0.676515          0.403014  1.000000  0.141179  0.741272   \n",
       "threat             0.157058          0.123601  0.141179  1.000000  0.150022   \n",
       "abuse              0.647518          0.375807  0.741272  0.150022  1.000000   \n",
       "loathe             0.266009          0.201600  0.286867  0.115128  0.337736   \n",
       "\n",
       "                    loathe  \n",
       "malignant         0.266009  \n",
       "highly_malignant  0.201600  \n",
       "rude              0.286867  \n",
       "threat            0.115128  \n",
       "abuse             0.337736  \n",
       "loathe            1.000000  "
      ]
     },
     "execution_count": 20,
     "metadata": {},
     "output_type": "execute_result"
    }
   ],
   "source": [
    "#Checking correlation of the dataset\n",
    "corr=df.corr()  \n",
    "corr"
   ]
  },
  {
   "cell_type": "code",
   "execution_count": 21,
   "id": "22ffc621",
   "metadata": {},
   "outputs": [
    {
     "data": {
      "image/png": "[encoded data removed]",
      "text/plain": [
       "<Figure size 1584x504 with 2 Axes>"
      ]
     },
     "metadata": {
      "needs_background": "light"
     },
     "output_type": "display_data"
    }
   ],
   "source": [
    "corr_mat = df.corr()\n",
    "plt.figure(figsize=[22,7])\n",
    "sns.heatmap(corr_mat,annot=True)\n",
    "plt.title('Correlation Matrix')\n",
    "plt.savefig('Correlation_matrix.jpg')\n",
    "plt.show()"
   ]
  },
  {
   "cell_type": "markdown",
   "id": "025a76f1",
   "metadata": {},
   "source": [
    "Observations:\n",
    "1) Threat is highly negatively correlated with every feature.\n",
    "2) Rude and abuse are highly positively correlated."
   ]
  },
  {
   "cell_type": "markdown",
   "id": "08f47c5a",
   "metadata": {},
   "source": [
    "Data preprocessing"
   ]
  },
  {
   "cell_type": "markdown",
   "id": "b2bb2ea9",
   "metadata": {},
   "source": [
    "Removing Id column from train and test dataset."
   ]
  },
  {
   "cell_type": "code",
   "execution_count": 22,
   "id": "0d423ac2",
   "metadata": {},
   "outputs": [],
   "source": [
    "df.drop('id',axis=1,inplace=True)\n",
    "dft.drop('id',axis=1,inplace=True)"
   ]
  },
  {
   "cell_type": "code",
   "execution_count": 23,
   "id": "f8e36d40",
   "metadata": {},
   "outputs": [],
   "source": [
    "import nltk\n",
    "import re\n",
    "import string\n",
    "from nltk.corpus import stopwords\n",
    "from nltk.tokenize import word_tokenize\n",
    "from nltk.stem import WordNetLemmatizer\n",
    "from sklearn.feature_extraction.text import TfidfVectorizer"
   ]
  },
  {
   "cell_type": "code",
   "execution_count": 24,
   "id": "2a72ac05",
   "metadata": {},
   "outputs": [
    {
     "name": "stderr",
     "output_type": "stream",
     "text": [
      "[nltk_data] Downloading package stopwords to\n",
      "[nltk_data]     C:\\Users\\Aakash\\AppData\\Roaming\\nltk_data...\n",
      "[nltk_data]   Package stopwords is already up-to-date!\n"
     ]
    },
    {
     "data": {
      "text/plain": [
       "True"
      ]
     },
     "execution_count": 24,
     "metadata": {},
     "output_type": "execute_result"
    }
   ],
   "source": [
    "import nltk\n",
    "nltk.download('stopwords')"
   ]
  },
  {
   "cell_type": "code",
   "execution_count": 25,
   "id": "f243f0c0",
   "metadata": {},
   "outputs": [],
   "source": [
    "stop_words = stopwords.words('english')"
   ]
  },
  {
   "cell_type": "code",
   "execution_count": 26,
   "id": "473e6662",
   "metadata": {},
   "outputs": [],
   "source": [
    "lemmatizer = WordNetLemmatizer()"
   ]
  },
  {
   "cell_type": "code",
   "execution_count": 27,
   "id": "d2b6b90c",
   "metadata": {},
   "outputs": [],
   "source": [
    "df['comment_text'] = df['comment_text'].replace('\\n',' ')"
   ]
  },
  {
   "cell_type": "code",
   "execution_count": 28,
   "id": "b3dd573b",
   "metadata": {},
   "outputs": [],
   "source": [
    "#Function Definition for using regex operations and other text preprocessing for getting cleaned texts\n",
    "def clean_comments(text):\n",
    "    \n",
    "    #convert to lower case\n",
    "    lowered_text = text.lower()\n",
    "    \n",
    "    #Replacing email addresses with 'emailaddress'\n",
    "    text = re.sub(r'^.+@[^\\.].*\\.[a-z]{2,}$', 'emailaddress', lowered_text)\n",
    "    \n",
    "    #Replace URLs with 'webaddress'\n",
    "    text = re.sub(r'http\\S+', 'webaddress', text)\n",
    "    \n",
    "    #Removing numbers\n",
    "    text = re.sub(r'[0-9]', \" \", text)\n",
    "    \n",
    "    #Removing the HTML tags\n",
    "    text = re.sub(r\"<.*?>\", \" \", text)\n",
    "    \n",
    "    #Removing Punctuations\n",
    "    text = re.sub(r'[^\\w\\s]', ' ', text)\n",
    "    text = re.sub(r'\\_',' ',text)\n",
    "    \n",
    "    #Removing all the non-ascii characters \n",
    "    clean_words = re.sub(r'[^\\x00-\\x7f]',r'', text)\n",
    "    \n",
    "    #Removing the unwanted white spaces\n",
    "    text = \" \".join(text.split()) \n",
    "    \n",
    "    #Splitting data into words\n",
    "    tokenized_text = word_tokenize(text)\n",
    "    \n",
    "    #Removing remaining tokens that are not alphabetic, Removing stop words and Lemmatizing the text\n",
    "    removed_stop_text = [lemmatizer.lemmatize(word) for word in tokenized_text if word not in stop_words if word.isalpha()]\n",
    "   \n",
    "    return \" \".join(removed_stop_text)"
   ]
  },
  {
   "cell_type": "code",
   "execution_count": 29,
   "id": "d96f1504",
   "metadata": {},
   "outputs": [
    {
     "name": "stderr",
     "output_type": "stream",
     "text": [
      "[nltk_data] Downloading package punkt to\n",
      "[nltk_data]     C:\\Users\\Aakash\\AppData\\Roaming\\nltk_data...\n",
      "[nltk_data]   Package punkt is already up-to-date!\n"
     ]
    },
    {
     "data": {
      "text/plain": [
       "True"
      ]
     },
     "execution_count": 29,
     "metadata": {},
     "output_type": "execute_result"
    }
   ],
   "source": [
    "import nltk\n",
    "nltk.download('punkt')"
   ]
  },
  {
   "cell_type": "code",
   "execution_count": 30,
   "id": "5ae7ef4b",
   "metadata": {},
   "outputs": [
    {
     "name": "stderr",
     "output_type": "stream",
     "text": [
      "[nltk_data] Downloading package wordnet to\n",
      "[nltk_data]     C:\\Users\\Aakash\\AppData\\Roaming\\nltk_data...\n",
      "[nltk_data]   Package wordnet is already up-to-date!\n"
     ]
    },
    {
     "data": {
      "text/plain": [
       "True"
      ]
     },
     "execution_count": 30,
     "metadata": {},
     "output_type": "execute_result"
    }
   ],
   "source": [
    "import nltk\n",
    "nltk.download('wordnet')"
   ]
  },
  {
   "cell_type": "code",
   "execution_count": 31,
   "id": "b1001ff9",
   "metadata": {},
   "outputs": [
    {
     "data": {
      "text/plain": [
       "0    explanation edits made username hardcore metal...\n",
       "1    aww match background colour seemingly stuck th...\n",
       "2    hey man really trying edit war guy constantly ...\n",
       "3    make real suggestion improvement wondered sect...\n",
       "4                        sir hero chance remember page\n",
       "Name: comment_text, dtype: object"
      ]
     },
     "execution_count": 31,
     "metadata": {},
     "output_type": "execute_result"
    }
   ],
   "source": [
    "df['comment_text'] = df['comment_text'].apply(clean_comments)\n",
    "df['comment_text'].head()"
   ]
  },
  {
   "cell_type": "code",
   "execution_count": 32,
   "id": "cd41a9a5",
   "metadata": {},
   "outputs": [
    {
     "data": {
      "text/plain": [
       "0    yo bitch ja rule succesful ever whats hating s...\n",
       "1                                   rfc title fine imo\n",
       "2                           source zawe ashton lapland\n",
       "3    look back source information updated correct f...\n",
       "4                             anonymously edit article\n",
       "Name: comment_text, dtype: object"
      ]
     },
     "execution_count": 32,
     "metadata": {},
     "output_type": "execute_result"
    }
   ],
   "source": [
    "dft['comment_text'] = dft['comment_text'].apply(clean_comments)\n",
    "dft['comment_text'].head()"
   ]
  },
  {
   "cell_type": "code",
   "execution_count": 33,
   "id": "47494573",
   "metadata": {},
   "outputs": [],
   "source": [
    "tf_vec = TfidfVectorizer(max_features = 2000, stop_words='english')"
   ]
  },
  {
   "cell_type": "code",
   "execution_count": 34,
   "id": "a2f41d19",
   "metadata": {},
   "outputs": [],
   "source": [
    "x = tf_vec.fit_transform(df['comment_text']).toarray()"
   ]
  },
  {
   "cell_type": "code",
   "execution_count": 35,
   "id": "863ccb78",
   "metadata": {},
   "outputs": [],
   "source": [
    "output_labels= df.columns[1:7]"
   ]
  },
  {
   "cell_type": "code",
   "execution_count": 36,
   "id": "59420823",
   "metadata": {},
   "outputs": [],
   "source": [
    "from scipy.sparse import csr_matrix\n",
    "y = csr_matrix(df[output_labels]).toarray()"
   ]
  },
  {
   "cell_type": "code",
   "execution_count": 37,
   "id": "7dd7362c",
   "metadata": {},
   "outputs": [
    {
     "data": {
      "text/plain": [
       "<153164x2000 sparse matrix of type '<class 'numpy.float64'>'\n",
       "\twith 2138199 stored elements in Compressed Sparse Row format>"
      ]
     },
     "execution_count": 37,
     "metadata": {},
     "output_type": "execute_result"
    }
   ],
   "source": [
    "test_vec = tf_vec.fit_transform(dft['comment_text'])\n",
    "test_vec"
   ]
  },
  {
   "cell_type": "code",
   "execution_count": 42,
   "id": "c4aa4a9c",
   "metadata": {},
   "outputs": [],
   "source": [
    "#Importing Machine learning Model library\n",
    "from sklearn.linear_model import LogisticRegression\n",
    "from sklearn.naive_bayes import MultinomialNB\n",
    "from sklearn.tree import DecisionTreeClassifier\n",
    "from sklearn.neighbors import KNeighborsClassifier\n",
    "from sklearn.ensemble import RandomForestClassifier\n",
    "from sklearn.ensemble import AdaBoostClassifier\n",
    "from sklearn.ensemble import GradientBoostingClassifier\n",
    "from sklearn.svm import SVC, LinearSVC\n",
    "from sklearn.multiclass import OneVsRestClassifier\n",
    "from sklearn.model_selection import train_test_split,cross_val_score\n",
    "from sklearn.metrics import confusion_matrix,classification_report,accuracy_score\n",
    "from sklearn.metrics import roc_auc_score, roc_curve, auc\n",
    "from sklearn.metrics import hamming_loss, log_loss"
   ]
  },
  {
   "cell_type": "code",
   "execution_count": 43,
   "id": "9459af5b",
   "metadata": {},
   "outputs": [],
   "source": [
    "import timeit, sys\n",
    "import tqdm.notebook as tqdm"
   ]
  },
  {
   "cell_type": "code",
   "execution_count": 44,
   "id": "cae055ce",
   "metadata": {},
   "outputs": [],
   "source": [
    "def build_models(models,x,y,test_size=0.33,random_state=42):\n",
    "    # spliting train test data using train_test_split\n",
    "    x_train,x_test,y_train,y_test = train_test_split(x,y,test_size=test_size,random_state=random_state)\n",
    "    \n",
    "    # training models using BinaryRelevance of problem transform\n",
    "    for i in tqdm.tqdm(models,desc=\"Building Models\"):\n",
    "        start_time = timeit.default_timer()\n",
    "        \n",
    "        sys.stdout.write(\"\\n=======================================================================================\\n\")\n",
    "        sys.stdout.write(f\"Current Model in Progress: {i} \")\n",
    "        sys.stdout.write(\"\\n=======================================================================================\\n\")\n",
    "        \n",
    "        br_clf = BinaryRelevance(classifier=models[i][\"name\"],require_dense=[True,True])\n",
    "        print(\"Training: \",br_clf)\n",
    "        br_clf.fit(x_train,y_train)\n",
    "        \n",
    "        print(\"Testing: \")\n",
    "        predict_y = br_clf.predict(x_test)\n",
    "        \n",
    "        ham_loss = hamming_loss(y_test,predict_y)\n",
    "        sys.stdout.write(f\"\\n\\tHamming Loss  : {ham_loss}\")\n",
    "                \n",
    "        ac_score = accuracy_score(y_test,predict_y)\n",
    "        sys.stdout.write(f\"\\n\\tAccuracy Score: {ac_score}\")\n",
    "        \n",
    "        cl_report = classification_report(y_test,predict_y)\n",
    "        sys.stdout.write(f\"\\n{cl_report}\")\n",
    "        \n",
    "        end_time = timeit.default_timer()\n",
    "        sys.stdout.write(f\"Completed in [{end_time-start_time} sec.]\")\n",
    "        \n",
    "        models[i][\"trained\"] = br_clf\n",
    "        models[i][\"hamming_loss\"] = ham_loss\n",
    "        models[i][\"accuracy_score\"] = ac_score\n",
    "        models[i][\"classification_report\"] = cl_report\n",
    "        models[i][\"predict_y\"] = predict_y\n",
    "        models[i][\"time_taken\"] = end_time - start_time\n",
    "                      \n",
    "        sys.stdout.write(\"\\n=======================================================================================\\n\")\n",
    "    \n",
    "    models[\"x_train\"] = x_train\n",
    "    models[\"y_train\"] = y_train\n",
    "    models[\"x_test\"] = x_test\n",
    "    models[\"y_test\"] = y_test\n",
    "    \n",
    "    return models"
   ]
  },
  {
   "cell_type": "code",
   "execution_count": 48,
   "id": "a7414d26",
   "metadata": {},
   "outputs": [
    {
     "name": "stdout",
     "output_type": "stream",
     "text": [
      "Collecting scikit-multilearn\n",
      "  Downloading scikit_multilearn-0.2.0-py3-none-any.whl (89 kB)\n",
      "Installing collected packages: scikit-multilearn\n",
      "Successfully installed scikit-multilearn-0.2.0\n"
     ]
    }
   ],
   "source": [
    "!pip install scikit-multilearn"
   ]
  },
  {
   "cell_type": "code",
   "execution_count": 50,
   "id": "4cba6809",
   "metadata": {},
   "outputs": [
    {
     "data": {
      "application/vnd.jupyter.widget-view+json": {
       "model_id": "0f052afa6c9d43729560211bb37f4867",
       "version_major": 2,
       "version_minor": 0
      },
      "text/plain": [
       "Building Models:   0%|          | 0/1 [00:00<?, ?it/s]"
      ]
     },
     "metadata": {},
     "output_type": "display_data"
    },
    {
     "name": "stdout",
     "output_type": "stream",
     "text": [
      "\n",
      "=======================================================================================\n",
      "Current Model in Progress: Logistic Regression \n",
      "=======================================================================================\n",
      "Training:  BinaryRelevance(classifier=LogisticRegression(), require_dense=[True, True])\n",
      "Testing: \n",
      "\n",
      "\tHamming Loss  : 0.022066084314470186\n",
      "\tAccuracy Score: 0.9123433345993164\n",
      "              precision    recall  f1-score   support\n",
      "\n",
      "           0       0.92      0.51      0.66      1281\n",
      "           1       0.61      0.18      0.28       150\n",
      "           2       0.95      0.54      0.69       724\n",
      "           3       0.00      0.00      0.00        44\n",
      "           4       0.81      0.45      0.58       650\n",
      "           5       0.88      0.13      0.22       109\n",
      "\n",
      "   micro avg       0.89      0.47      0.61      2958\n",
      "   macro avg       0.70      0.30      0.40      2958\n",
      "weighted avg       0.87      0.47      0.60      2958\n",
      " samples avg       0.05      0.04      0.04      2958\n",
      "Completed in [30.167622299999948 sec.]\n",
      "=======================================================================================\n"
     ]
    }
   ],
   "source": [
    "from skmultilearn.problem_transform import BinaryRelevance\n",
    "models = {\n",
    "          \"Logistic Regression\": {\"name\": LogisticRegression()} }\n",
    "\n",
    "# Taking one forth of the total data for training and testing purpose\n",
    "half = len(df)//4\n",
    "trained_models = build_models(models,x[:half,:],y[:half,:])"
   ]
  },
  {
   "cell_type": "code",
   "execution_count": 51,
   "id": "37c98422",
   "metadata": {},
   "outputs": [],
   "source": [
    "# selecting the best model\n",
    "best_model = trained_models['Logistic Regression']['trained']\n",
    "\n",
    "# saving the best classification model\n",
    "import joblib\n",
    "joblib.dump(best_model,open('Malignant_comments_classifier.pkl','wb'))"
   ]
  },
  {
   "cell_type": "code",
   "execution_count": 52,
   "id": "bbcc1562",
   "metadata": {},
   "outputs": [],
   "source": [
    "# saving the best classification model\n",
    "import joblib\n",
    "best_model = joblib.load('Malignant_comments_classifier.pkl')\n"
   ]
  },
  {
   "cell_type": "code",
   "execution_count": 53,
   "id": "e3e05bd2",
   "metadata": {},
   "outputs": [
    {
     "data": {
      "text/plain": [
       "array([[0., 0., 0., ..., 0., 0., 0.],\n",
       "       [0., 0., 0., ..., 0., 0., 0.],\n",
       "       [0., 0., 0., ..., 0., 0., 0.],\n",
       "       ...,\n",
       "       [0., 0., 0., ..., 0., 0., 0.],\n",
       "       [0., 0., 0., ..., 0., 0., 0.],\n",
       "       [0., 0., 0., ..., 0., 0., 0.]])"
      ]
     },
     "execution_count": 53,
     "metadata": {},
     "output_type": "execute_result"
    }
   ],
   "source": [
    "test_vec.toarray()"
   ]
  },
  {
   "cell_type": "code",
   "execution_count": 54,
   "id": "a38207eb",
   "metadata": {},
   "outputs": [],
   "source": [
    "predict_test = best_model.predict(test_vec.toarray())\n",
    "\n",
    "# Saving predicted values into a CSV file\n",
    "pd.DataFrame(predict_test).to_csv('Predicted_test_output.csv')"
   ]
  },
  {
   "cell_type": "code",
   "execution_count": 59,
   "id": "eb771dd6",
   "metadata": {},
   "outputs": [],
   "source": [
    "df.to_csv('test_dataset_predictions2.csv', index=False)"
   ]
  },
  {
   "cell_type": "code",
   "execution_count": null,
   "id": "90774892",
   "metadata": {},
   "outputs": [],
   "source": []
  }
 ],
 "metadata": {
  "kernelspec": {
   "display_name": "Python 3 (ipykernel)",
   "language": "python",
   "name": "python3"
  },
  "language_info": {
   "codemirror_mode": {
    "name": "ipython",
    "version": 3
   },
   "file_extension": ".py",
   "mimetype": "text/x-python",
   "name": "python",
   "nbconvert_exporter": "python",
   "pygments_lexer": "ipython3",
   "version": "3.9.7"
  }
 },
 "nbformat": 4,
 "nbformat_minor": 5
}
